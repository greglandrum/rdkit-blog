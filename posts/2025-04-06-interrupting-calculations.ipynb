{
 "cells": [
  {
   "cell_type": "raw",
   "id": "0e5bf3b3",
   "metadata": {
    "vscode": {
     "languageId": "raw"
    }
   },
   "source": [
    "---\n",
    "categories:\n",
    "- tutorial\n",
    "- technical\n",
    "date: '2025-04-06'\n",
    "title: Interrupting calculations\n",
    "description: Sometimes things just take too long...\n",
    "layout: post\n",
    "toc: true\n",
    "\n",
    "---"
   ]
  },
  {
   "cell_type": "markdown",
   "id": "1108197c",
   "metadata": {},
   "source": [
    "This is a short post to introduce a couple of features to make working with some of the longer-running calculations in the RDKit a bit easier:\n",
    "\n",
    "- timeouts for some functions\n",
    "- cancelling calculations, a feature that we have started to support in the 2025.03.1 RDKit release\n"
   ]
  },
  {
   "cell_type": "code",
   "execution_count": 1,
   "id": "439fda68",
   "metadata": {},
   "outputs": [
    {
     "name": "stdout",
     "output_type": "stream",
     "text": [
      "2025.03.1\n"
     ]
    }
   ],
   "source": [
    "from rdkit import Chem\n",
    "from rdkit.Chem import rdDistGeom\n",
    "from rdkit.Chem import rdSynthonSpaceSearch\n",
    "from rdkit.Chem import rdFingerprintGenerator\n",
    "\n",
    "import time\n",
    "\n",
    "import rdkit\n",
    "print(rdkit.__version__)"
   ]
  },
  {
   "cell_type": "markdown",
   "id": "d000fcdb",
   "metadata": {},
   "source": [
    "# Conformer generation"
   ]
  },
  {
   "cell_type": "code",
   "execution_count": 2,
   "id": "f1b0d8de",
   "metadata": {},
   "outputs": [],
   "source": [
    "m = Chem.AddHs(Chem.MolFromSmiles('CCCCCCCCCCCCCCCC'))"
   ]
  },
  {
   "cell_type": "code",
   "execution_count": 3,
   "id": "23d6819f",
   "metadata": {},
   "outputs": [
    {
     "name": "stdout",
     "output_type": "stream",
     "text": [
      "1000 conformers in 11.72s\n"
     ]
    }
   ],
   "source": [
    "params = rdDistGeom.ETKDGv3()\n",
    "params.randomSeed = 0xbad5eed\n",
    "\n",
    "t1 = time.time()\n",
    "cids = rdDistGeom.EmbedMultipleConfs(m,1000,params)\n",
    "t2 = time.time()\n",
    "print(f'{len(cids)} conformers in {t2-t1:.2f}s')"
   ]
  },
  {
   "cell_type": "markdown",
   "id": "f57aa1f1",
   "metadata": {},
   "source": [
    "What's new is that you can stop the calculation by pressing the \"interrupt the kernel\" button in the notebook or by hitting `^C` if you are running on the command line:"
   ]
  },
  {
   "cell_type": "code",
   "execution_count": 4,
   "id": "9ce10417",
   "metadata": {},
   "outputs": [
    {
     "name": "stderr",
     "output_type": "stream",
     "text": [
      "[16:34:13] Interrupted, cancelling conformer generation\n"
     ]
    },
    {
     "ename": "KeyboardInterrupt",
     "evalue": "Embedding cancelled",
     "output_type": "error",
     "traceback": [
      "\u001b[0;31m---------------------------------------------------------------------------\u001b[0m",
      "\u001b[0;31mKeyboardInterrupt\u001b[0m                         Traceback (most recent call last)",
      "Cell \u001b[0;32mIn[4], line 4\u001b[0m\n\u001b[1;32m      1\u001b[0m params \u001b[38;5;241m=\u001b[39m rdDistGeom\u001b[38;5;241m.\u001b[39mETKDGv3()\n\u001b[1;32m      2\u001b[0m params\u001b[38;5;241m.\u001b[39mrandomSeed \u001b[38;5;241m=\u001b[39m \u001b[38;5;241m0xbad5eed\u001b[39m\n\u001b[0;32m----> 4\u001b[0m cids \u001b[38;5;241m=\u001b[39m \u001b[43mrdDistGeom\u001b[49m\u001b[38;5;241;43m.\u001b[39;49m\u001b[43mEmbedMultipleConfs\u001b[49m\u001b[43m(\u001b[49m\u001b[43mm\u001b[49m\u001b[43m,\u001b[49m\u001b[38;5;241;43m1000\u001b[39;49m\u001b[43m,\u001b[49m\u001b[43mparams\u001b[49m\u001b[43m)\u001b[49m\n",
      "\u001b[0;31mKeyboardInterrupt\u001b[0m: Embedding cancelled"
     ]
    }
   ],
   "source": [
    "params = rdDistGeom.ETKDGv3()\n",
    "params.randomSeed = 0xbad5eed\n",
    "\n",
    "cids = rdDistGeom.EmbedMultipleConfs(m,1000,params)"
   ]
  },
  {
   "cell_type": "markdown",
   "id": "ee680686",
   "metadata": {},
   "source": [
    "Obviously in this case it doesn't make that big of a difference, but for a molecule which takes longer to embed, for example one with a lot of chiral centers and/or a complex fused-ring system, it's nice to be able to stop things without having to completely restart the kernel."
   ]
  },
  {
   "cell_type": "markdown",
   "id": "3122302f",
   "metadata": {},
   "source": [
    "It's now also possible to specify a time out for the conformer generation. If you provide a timeout, the conformer generation will be gracefully cancelled if it runs for longer than the specified value.\n",
    "\n",
    "Thanks to Nikitas Rontsis, Akvilė Žemgulytė, and Charlie Beattie at Google Deepmind for contributing the timeout support."
   ]
  },
  {
   "cell_type": "code",
   "execution_count": 5,
   "id": "23eadc9c",
   "metadata": {},
   "outputs": [
    {
     "name": "stdout",
     "output_type": "stream",
     "text": [
      "1 conformers in 3.01s\n"
     ]
    }
   ],
   "source": [
    "params.timeout = 3\n",
    "t1 = time.time()\n",
    "cids = rdDistGeom.EmbedMultipleConfs(m,1000,params)\n",
    "t2 = time.time()\n",
    "print(f'{len(cids)} conformers in {t2-t1:.2f}s')"
   ]
  },
  {
   "cell_type": "markdown",
   "id": "268a1298",
   "metadata": {},
   "source": [
    "The one conformer ID we get is -1, to indicate that the calculation failed:"
   ]
  },
  {
   "cell_type": "code",
   "execution_count": 6,
   "id": "8626b6fa",
   "metadata": {},
   "outputs": [
    {
     "data": {
      "text/plain": [
       "-1"
      ]
     },
     "execution_count": 6,
     "metadata": {},
     "output_type": "execute_result"
    }
   ],
   "source": [
    "cids[0]"
   ]
  },
  {
   "cell_type": "markdown",
   "id": "114e6eb5",
   "metadata": {},
   "source": [
    "# Synthon searches\n",
    "\n",
    "Inspired by the changes to the conformer generator, Dave Cosgrove added support for both timeouts and interrupting calculations to the code for doing [synthon space searches](https://greglandrum.github.io/rdkit-blog/posts/2024-12-03-introducing-synthon-search.html).\n"
   ]
  },
  {
   "cell_type": "markdown",
   "id": "7690a870",
   "metadata": {},
   "source": [
    "Demonstrate this using synthon search in Chemspace's FreedomSpace "
   ]
  },
  {
   "cell_type": "code",
   "execution_count": 7,
   "id": "3261ef95",
   "metadata": {},
   "outputs": [],
   "source": [
    "spc = rdSynthonSpaceSearch.SynthonSpace()\n",
    "spc.ReadDBFile('/scratch/RDKit_git/Data/2023-05_Freedom_synthons.spc')"
   ]
  },
  {
   "cell_type": "code",
   "execution_count": 8,
   "id": "3fd82389",
   "metadata": {},
   "outputs": [
    {
     "data": {
      "text/plain": [
       "9360696185"
      ]
     },
     "execution_count": 8,
     "metadata": {},
     "output_type": "execute_result"
    }
   ],
   "source": [
    "spc.GetNumProducts()"
   ]
  },
  {
   "cell_type": "code",
   "execution_count": 9,
   "id": "7d17a975",
   "metadata": {},
   "outputs": [],
   "source": [
    "qry = Chem.MolFromSmiles('FC1=CC=CC2=C1NN=C2')"
   ]
  },
  {
   "cell_type": "code",
   "execution_count": 10,
   "id": "80d11779",
   "metadata": {
    "scrolled": true
   },
   "outputs": [
    {
     "name": "stdout",
     "output_type": "stream",
     "text": [
      "5000 results in 1.84s\n"
     ]
    }
   ],
   "source": [
    "ps = rdSynthonSpaceSearch.SynthonSpaceSearchParams()\n",
    "ps.maxHits = 5000\n",
    "\n",
    "t1 = time.time()\n",
    "res = spc.SubstructureSearch(qry,params=ps)\n",
    "t2 = time.time()\n",
    "print(f'{len(res.GetHitMolecules())} results in {t2-t1:.2f}s')"
   ]
  },
  {
   "cell_type": "code",
   "execution_count": 11,
   "id": "4f099e85",
   "metadata": {},
   "outputs": [
    {
     "ename": "RuntimeError",
     "evalue": "SubstructureSearch cancelled",
     "output_type": "error",
     "traceback": [
      "\u001b[0;31m---------------------------------------------------------------------------\u001b[0m",
      "\u001b[0;31mRuntimeError\u001b[0m                              Traceback (most recent call last)",
      "Cell \u001b[0;32mIn[11], line 5\u001b[0m\n\u001b[1;32m      2\u001b[0m ps\u001b[38;5;241m.\u001b[39mmaxHits \u001b[38;5;241m=\u001b[39m \u001b[38;5;241m5000\u001b[39m\n\u001b[1;32m      4\u001b[0m t1 \u001b[38;5;241m=\u001b[39m time\u001b[38;5;241m.\u001b[39mtime()\n\u001b[0;32m----> 5\u001b[0m res \u001b[38;5;241m=\u001b[39m \u001b[43mspc\u001b[49m\u001b[38;5;241;43m.\u001b[39;49m\u001b[43mSubstructureSearch\u001b[49m\u001b[43m(\u001b[49m\u001b[43mqry\u001b[49m\u001b[43m,\u001b[49m\u001b[43mparams\u001b[49m\u001b[38;5;241;43m=\u001b[39;49m\u001b[43mps\u001b[49m\u001b[43m)\u001b[49m\n\u001b[1;32m      6\u001b[0m t2 \u001b[38;5;241m=\u001b[39m time\u001b[38;5;241m.\u001b[39mtime()\n",
      "\u001b[0;31mRuntimeError\u001b[0m: SubstructureSearch cancelled"
     ]
    }
   ],
   "source": [
    "ps = rdSynthonSpaceSearch.SynthonSpaceSearchParams()\n",
    "ps.maxHits = 5000\n",
    "\n",
    "t1 = time.time()\n",
    "res = spc.SubstructureSearch(qry,params=ps)\n",
    "t2 = time.time()"
   ]
  },
  {
   "cell_type": "markdown",
   "id": "4177ccae",
   "metadata": {},
   "source": [
    "Substructure searching is really too fast to sensibly demonstrate the timeout, so let's do a similarity search."
   ]
  },
  {
   "cell_type": "code",
   "execution_count": 12,
   "id": "0d8c3ca6",
   "metadata": {},
   "outputs": [],
   "source": [
    "vemurafenib = Chem.MolFromSmiles('CCCS(=O)(=O)Nc1ccc(F)c(c1F)C(=O)c2c[nH]c3c2cc(cn3)c4ccc(Cl)cc4')"
   ]
  },
  {
   "cell_type": "code",
   "execution_count": 13,
   "id": "c99dcf6c",
   "metadata": {},
   "outputs": [
    {
     "name": "stderr",
     "output_type": "stream",
     "text": [
      "[16:34:46] Building the fingerprints may take some time.\n"
     ]
    },
    {
     "name": "stdout",
     "output_type": "stream",
     "text": [
      "0 results in 33.32s\n"
     ]
    }
   ],
   "source": [
    "ps = rdSynthonSpaceSearch.SynthonSpaceSearchParams()\n",
    "ps.maxHits = 5000\n",
    "ps.numThreads = 8 \n",
    "\n",
    "fpg = rdFingerprintGenerator.GetMorganGenerator()\n",
    "\n",
    "t1 = time.time()\n",
    "res = spc.FingerprintSearch(vemurafenib,fpg,params=ps)\n",
    "t2 = time.time()\n",
    "print(f'{len(res.GetHitMolecules())} results in {t2-t1:.2f}s')"
   ]
  },
  {
   "cell_type": "code",
   "execution_count": 14,
   "id": "d01b60e9",
   "metadata": {},
   "outputs": [
    {
     "name": "stdout",
     "output_type": "stream",
     "text": [
      "448 results in 4.88s\n"
     ]
    }
   ],
   "source": [
    "ps = rdSynthonSpaceSearch.SynthonSpaceSearchParams()\n",
    "ps.maxHits = 5000\n",
    "ps.similarityCutoff = 0.4\n",
    "\n",
    "t1 = time.time()\n",
    "res = spc.FingerprintSearch(vemurafenib,fpg,params=ps)\n",
    "t2 = time.time()\n",
    "print(f'{len(res.GetHitMolecules())} results in {t2-t1:.2f}s')"
   ]
  },
  {
   "cell_type": "code",
   "execution_count": 15,
   "id": "a302edc6",
   "metadata": {},
   "outputs": [
    {
     "name": "stdout",
     "output_type": "stream",
     "text": [
      "0 results in 1.03s\n"
     ]
    },
    {
     "name": "stderr",
     "output_type": "stream",
     "text": [
      "[16:35:27] Timed out.\n",
      "[16:35:27] Timed out.\n",
      "[16:35:27] Timed out.\n"
     ]
    }
   ],
   "source": [
    "ps.timeOut = 1\n",
    "t1 = time.time()\n",
    "res = spc.FingerprintSearch(vemurafenib,fpg,params=ps)\n",
    "t2 = time.time()\n",
    "print(f'{len(res.GetHitMolecules())} results in {t2-t1:.2f}s')"
   ]
  },
  {
   "cell_type": "markdown",
   "id": "fe5cf915",
   "metadata": {},
   "source": [
    "We can also cancel the calculation with the \"interrupt the kernel\" button in the notebook or `^C` in the terminal:"
   ]
  },
  {
   "cell_type": "code",
   "execution_count": 16,
   "id": "b60f0cc0",
   "metadata": {},
   "outputs": [
    {
     "ename": "RuntimeError",
     "evalue": "FingerprintSearch cancelled",
     "output_type": "error",
     "traceback": [
      "\u001b[0;31m---------------------------------------------------------------------------\u001b[0m",
      "\u001b[0;31mRuntimeError\u001b[0m                              Traceback (most recent call last)",
      "Cell \u001b[0;32mIn[16], line 6\u001b[0m\n\u001b[1;32m      3\u001b[0m ps\u001b[38;5;241m.\u001b[39msimilarityCutoff \u001b[38;5;241m=\u001b[39m \u001b[38;5;241m0.4\u001b[39m\n\u001b[1;32m      5\u001b[0m t1 \u001b[38;5;241m=\u001b[39m time\u001b[38;5;241m.\u001b[39mtime()\n\u001b[0;32m----> 6\u001b[0m res \u001b[38;5;241m=\u001b[39m \u001b[43mspc\u001b[49m\u001b[38;5;241;43m.\u001b[39;49m\u001b[43mFingerprintSearch\u001b[49m\u001b[43m(\u001b[49m\u001b[43mvemurafenib\u001b[49m\u001b[43m,\u001b[49m\u001b[43mfpg\u001b[49m\u001b[43m,\u001b[49m\u001b[43mparams\u001b[49m\u001b[38;5;241;43m=\u001b[39;49m\u001b[43mps\u001b[49m\u001b[43m)\u001b[49m\n\u001b[1;32m      7\u001b[0m t2 \u001b[38;5;241m=\u001b[39m time\u001b[38;5;241m.\u001b[39mtime()\n\u001b[1;32m      8\u001b[0m \u001b[38;5;28mprint\u001b[39m(\u001b[38;5;124mf\u001b[39m\u001b[38;5;124m'\u001b[39m\u001b[38;5;132;01m{\u001b[39;00m\u001b[38;5;28mlen\u001b[39m(res\u001b[38;5;241m.\u001b[39mGetHitMolecules())\u001b[38;5;132;01m}\u001b[39;00m\u001b[38;5;124m results in \u001b[39m\u001b[38;5;132;01m{\u001b[39;00mt2\u001b[38;5;241m-\u001b[39mt1\u001b[38;5;132;01m:\u001b[39;00m\u001b[38;5;124m.2f\u001b[39m\u001b[38;5;132;01m}\u001b[39;00m\u001b[38;5;124ms\u001b[39m\u001b[38;5;124m'\u001b[39m)\n",
      "\u001b[0;31mRuntimeError\u001b[0m: FingerprintSearch cancelled"
     ]
    }
   ],
   "source": [
    "ps = rdSynthonSpaceSearch.SynthonSpaceSearchParams()\n",
    "ps.maxHits = 5000\n",
    "ps.similarityCutoff = 0.4\n",
    "\n",
    "t1 = time.time()\n",
    "res = spc.FingerprintSearch(vemurafenib,fpg,params=ps)\n",
    "t2 = time.time()\n",
    "print(f'{len(res.GetHitMolecules())} results in {t2-t1:.2f}s')"
   ]
  },
  {
   "cell_type": "markdown",
   "id": "dfab1530",
   "metadata": {},
   "source": [
    "# Other RDKit functions supporting a timeout\n",
    "\n",
    "Some other RDKit functions have supported providing a timeout for a while:\n",
    "\n",
    "- `rdFMCS.FindMCS()` via `rdFMCS.MCSParameters.Timeout`\n",
    "- The code in `rdRascalMCES` via `rdRascalMCES.RascalOptions.timeout`\n",
    "- The code in `rdRGroupDecompositoin` via `rdRGroupDecomposition.RGroupDecompositionParameters.timeout`\n",
    "\n",
    "If you have ideas for other long-running functions which should support a timeout and/or being interruptable, please leave a comment or open an RDKit feature request in github."
   ]
  }
 ],
 "metadata": {
  "kernelspec": {
   "display_name": "Python 3 (ipykernel)",
   "language": "python",
   "name": "python3"
  },
  "language_info": {
   "codemirror_mode": {
    "name": "ipython",
    "version": 3
   },
   "file_extension": ".py",
   "mimetype": "text/x-python",
   "name": "python",
   "nbconvert_exporter": "python",
   "pygments_lexer": "ipython3",
   "version": "3.12.6"
  },
  "toc": {
   "base_numbering": 1,
   "nav_menu": {},
   "number_sections": true,
   "sideBar": true,
   "skip_h1_title": false,
   "title_cell": "Table of Contents",
   "title_sidebar": "Contents",
   "toc_cell": false,
   "toc_position": {},
   "toc_section_display": true,
   "toc_window_display": false
  }
 },
 "nbformat": 4,
 "nbformat_minor": 5
}
