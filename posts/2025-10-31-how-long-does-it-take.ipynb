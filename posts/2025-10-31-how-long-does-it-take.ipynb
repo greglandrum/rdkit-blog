{
 "cells": [
  {
   "cell_type": "raw",
   "id": "0e5bf3b3",
   "metadata": {
    "vscode": {
     "languageId": "raw"
    }
   },
   "source": [
    "---\n",
    "categories:\n",
    "- optimization\n",
    "- reference\n",
    "date: '2025-10-31'\n",
    "title: How long does it take to do common tasks in the RDKit?\n",
    "description: Setting things up to track performance over time.\n",
    "layout: post\n",
    "toc: true\n",
    "\n",
    "---"
   ]
  },
  {
   "cell_type": "markdown",
   "id": "93e5c1f4-126c-44d9-9ae6-f8c890fd524e",
   "metadata": {},
   "source": [
    "Years ago (back in the sourceforge days), I used to maintain a page with info about how long it took to do common operations in the RDKit. This was useful for both reference purposes and to track the evolution of RDKit performance over time. At some point I stopped doing this, but a [recently merged PR](https://github.com/rdkit/rdkit/pull/8865) got me thinking about this again (@Andrew: thanks for that contribution!).\n",
    "\n",
    "I'm going to use this notebook to explain and run some new benchmarks (these are different from the PR mentioned above, which is meant to run as part of the RDKit build process). The results, including historical results, are [tabulated in the wiki](https://github.com/rdkit/rdkit/wiki/How-Long-Things-Take)\n",
    "I will update this post as I add more benchmarks.\n",
    "\n",
    "Let me know if you have ideas for interesting and useful benchmarks I should add!\n"
   ]
  },
  {
   "cell_type": "code",
   "execution_count": 2,
   "id": "e7a50bf7-c33d-418c-90e2-176747025afd",
   "metadata": {},
   "outputs": [],
   "source": [
    "from rdkit import Chem\n",
    "from rdkit.Chem import Draw\n",
    "from rdkit.Chem.Draw import IPythonConsole\n",
    "\n",
    "%load_ext sql"
   ]
  },
  {
   "cell_type": "markdown",
   "id": "dd8d2eb7-e083-4b21-a251-8ff0ee8fb608",
   "metadata": {},
   "source": [
    "# Get the SMILES we will be working with:"
   ]
  },
  {
   "cell_type": "markdown",
   "id": "8ce5d139-382c-4120-abf9-2e61241dda55",
   "metadata": {},
   "source": [
    "Get 10000 random compounds from ChEMBL that have a pchembl_value >= 9 and don't have multiple components.\n",
    "\n",
    "This stuff doesn't need to be run every time, so I'm not saving the cells as code. "
   ]
  },
  {
   "cell_type": "markdown",
   "id": "4bb8b370-3d4b-4476-a44b-f271385987a1",
   "metadata": {},
   "source": [
    "```\n",
    "d = %sql postgresql://localhost/chembl_36 \\\n",
    "  select distinct(canonical_smiles) canonical_smiles,chembl_id from compound_structures tablesample bernoulli(20) repeatable (123892) \\\n",
    "    join chembl_id_lookup on (molregno=entity_id and entity_type='COMPOUND') \\\n",
    "    join activities using (molregno) \\\n",
    "    where activities.pchembl_value>=9 and \\\n",
    "    position('.' in canonical_smiles)=0 \\\n",
    "    limit 10000;\n",
    "```"
   ]
  },
  {
   "cell_type": "markdown",
   "id": "e6587496-c80b-4aa4-be2d-7e49ba1740e9",
   "metadata": {},
   "source": [
    "The `distinct(canonical_smiles)` query I did orders the results, so it looks like all of the compounds have isotopes specified. This is not actually the case:"
   ]
  },
  {
   "cell_type": "markdown",
   "id": "fe66a2cd-985b-4da7-8780-63d03dc3f657",
   "metadata": {},
   "source": [
    "Make sure all of those convert cleanly into molecules:"
   ]
  },
  {
   "cell_type": "markdown",
   "id": "e3ad6fef-4627-4e61-b402-7f4c8a5cf780",
   "metadata": {},
   "source": [
    "```\n",
    "sum(1 for x,y in d if Chem.MolFromSmiles(x) is not None)\n",
    "```"
   ]
  },
  {
   "cell_type": "markdown",
   "id": "bfa9a12a-26c2-400b-a4d9-a67fe84410a2",
   "metadata": {},
   "source": [
    "```\n",
    "with open('../data/chembl36_very_active.txt','w+') as outf:\n",
    "    outf.write('chembl_id canonical_smiles\\n')\n",
    "    for smi,cid in d:\n",
    "        outf.write(f'{cid} {smi}\\n')\n",
    "```"
   ]
  },
  {
   "cell_type": "markdown",
   "id": "4b66d3ca-77ed-4c46-a507-9efcd4fffa37",
   "metadata": {},
   "source": [
    "# Run the benchmarks"
   ]
  },
  {
   "cell_type": "code",
   "execution_count": 48,
   "id": "54d12953-db70-4ad7-8636-3fc85302ba46",
   "metadata": {},
   "outputs": [
    {
     "name": "stdout",
     "output_type": "stream",
     "text": [
      "2025.09.1\n"
     ]
    }
   ],
   "source": [
    "import rdkit\n",
    "print(rdkit.__version__)"
   ]
  },
  {
   "cell_type": "code",
   "execution_count": 46,
   "id": "0a210106-9868-42de-9654-b4dcc8d8b72f",
   "metadata": {},
   "outputs": [
    {
     "data": {
      "text/plain": [
       "10000"
      ]
     },
     "execution_count": 46,
     "metadata": {},
     "output_type": "execute_result"
    }
   ],
   "source": [
    "with open('../data/chembl36_very_active.txt','r') as inf:\n",
    "    ls = [x.strip().split() for x in inf]\n",
    "    ls.pop(0)\n",
    "    data = [(smi,cid) for cid,smi in ls]\n",
    "len(data)"
   ]
  },
  {
   "cell_type": "markdown",
   "id": "ca2c857c-fd69-4224-9f46-af552cd37c00",
   "metadata": {},
   "source": [
    "## Construct molecule from SMILES"
   ]
  },
  {
   "cell_type": "code",
   "execution_count": 47,
   "id": "ee572a1f-1a9d-432b-9018-78088adbea60",
   "metadata": {},
   "outputs": [
    {
     "name": "stdout",
     "output_type": "stream",
     "text": [
      "1.2 s ± 11.6 ms per loop (mean ± std. dev. of 7 runs, 1 loop each)\n"
     ]
    }
   ],
   "source": [
    "%timeit ms = [Chem.MolFromSmiles(smi) for smi,cid in data]"
   ]
  },
  {
   "cell_type": "code",
   "execution_count": 50,
   "id": "5877125f-d8d0-479d-b9b3-a90b59b5b916",
   "metadata": {},
   "outputs": [],
   "source": [
    "ms = [Chem.MolFromSmiles(smi) for smi,cid in data]"
   ]
  },
  {
   "cell_type": "markdown",
   "id": "6f5db730-30ff-467c-bd3e-7c36c5963f2b",
   "metadata": {},
   "source": [
    "## Generate canonical SMILES"
   ]
  },
  {
   "cell_type": "code",
   "execution_count": 51,
   "id": "62f06ed5-8cb8-4b28-9460-4560e2382716",
   "metadata": {},
   "outputs": [
    {
     "name": "stdout",
     "output_type": "stream",
     "text": [
      "658 ms ± 2.92 ms per loop (mean ± std. dev. of 7 runs, 1 loop each)\n"
     ]
    }
   ],
   "source": [
    "%timeit [Chem.MolToSmiles(m) for m in ms]"
   ]
  },
  {
   "cell_type": "code",
   "execution_count": 52,
   "id": "6d2249c2-1885-4c59-a9ab-43e69049b376",
   "metadata": {},
   "outputs": [],
   "source": [
    "from rdkit.Chem import rdDepictor"
   ]
  },
  {
   "cell_type": "markdown",
   "id": "96832185-f057-4910-9a98-591bca6a6704",
   "metadata": {},
   "source": [
    "## Generating 2D coordinates"
   ]
  },
  {
   "cell_type": "code",
   "execution_count": 53,
   "id": "db7ade8d-87be-46b0-8af7-8b545028e796",
   "metadata": {},
   "outputs": [
    {
     "name": "stdout",
     "output_type": "stream",
     "text": [
      "47.4 s ± 482 ms per loop (mean ± std. dev. of 7 runs, 1 loop each)\n"
     ]
    }
   ],
   "source": [
    "rdDepictor.SetPreferCoordGen(False)\n",
    "%timeit [rdDepictor.Compute2DCoords(m) for m in ms]"
   ]
  },
  {
   "cell_type": "code",
   "execution_count": 54,
   "id": "8afc354c-9179-4c5b-a768-3b051cb718c2",
   "metadata": {},
   "outputs": [
    {
     "name": "stdout",
     "output_type": "stream",
     "text": [
      "1min 55s ± 334 ms per loop (mean ± std. dev. of 7 runs, 1 loop each)\n"
     ]
    }
   ],
   "source": [
    "rdDepictor.SetPreferCoordGen(True)\n",
    "%timeit [rdDepictor.Compute2DCoords(m) for m in ms]"
   ]
  },
  {
   "cell_type": "code",
   "execution_count": 55,
   "id": "2b762085-5531-486e-96ce-c1a724b8c6f6",
   "metadata": {},
   "outputs": [],
   "source": [
    "ms2d = [Chem.Mol(m) for m in ms]\n",
    "_ = [rdDepictor.Compute2DCoords(m) for m in ms2d]"
   ]
  },
  {
   "cell_type": "markdown",
   "id": "51b409d3-3331-48b9-949e-8e2815262610",
   "metadata": {},
   "source": [
    "## Writing mol blocks"
   ]
  },
  {
   "cell_type": "code",
   "execution_count": 71,
   "id": "99e7d198-7447-4dea-a98f-58ca666938f2",
   "metadata": {},
   "outputs": [
    {
     "name": "stdout",
     "output_type": "stream",
     "text": [
      "877 ms ± 9.83 ms per loop (mean ± std. dev. of 7 runs, 1 loop each)\n"
     ]
    }
   ],
   "source": [
    "%timeit [Chem.MolToMolBlock(m) for m in ms2d]"
   ]
  },
  {
   "cell_type": "code",
   "execution_count": 70,
   "id": "a74584f8-01d8-4a47-845e-87d84d947de7",
   "metadata": {},
   "outputs": [
    {
     "name": "stdout",
     "output_type": "stream",
     "text": [
      "1.08 s ± 11.9 ms per loop (mean ± std. dev. of 7 runs, 1 loop each)\n"
     ]
    }
   ],
   "source": [
    "%timeit [Chem.MolToV3KMolBlock(m) for m in ms2d]"
   ]
  },
  {
   "cell_type": "code",
   "execution_count": 72,
   "id": "455618ca-4665-4834-87ac-5c0a7b532fdc",
   "metadata": {},
   "outputs": [],
   "source": [
    "mbs = [Chem.MolToMolBlock(m) for m in ms2d]\n",
    "mbs3k = [Chem.MolToV3KMolBlock(m) for m in ms2d]"
   ]
  },
  {
   "cell_type": "markdown",
   "id": "e2180fd7-a502-486c-bb7e-6ae69befa657",
   "metadata": {},
   "source": [
    "## Parsing mol blocks"
   ]
  },
  {
   "cell_type": "code",
   "execution_count": 73,
   "id": "2293ae67-5313-4186-bc2d-a5b03caddf8e",
   "metadata": {},
   "outputs": [
    {
     "name": "stderr",
     "output_type": "stream",
     "text": [
      "[08:31:09] Warning: ambiguous stereochemistry - zero final chiral volume - at atom 54 ignored\n",
      "[08:31:11] Warning: ambiguous stereochemistry - zero final chiral volume - at atom 54 ignored\n",
      "[08:31:12] Warning: ambiguous stereochemistry - zero final chiral volume - at atom 54 ignored\n",
      "[08:31:14] Warning: ambiguous stereochemistry - zero final chiral volume - at atom 54 ignored\n",
      "[08:31:16] Warning: ambiguous stereochemistry - zero final chiral volume - at atom 54 ignored\n",
      "[08:31:17] Warning: ambiguous stereochemistry - zero final chiral volume - at atom 54 ignored\n",
      "[08:31:19] Warning: ambiguous stereochemistry - zero final chiral volume - at atom 54 ignored\n",
      "[08:31:21] Warning: ambiguous stereochemistry - zero final chiral volume - at atom 54 ignored\n"
     ]
    },
    {
     "name": "stdout",
     "output_type": "stream",
     "text": [
      "1.71 s ± 17.8 ms per loop (mean ± std. dev. of 7 runs, 1 loop each)\n"
     ]
    }
   ],
   "source": [
    "%timeit [Chem.MolFromMolBlock(m) for m in mbs]"
   ]
  },
  {
   "cell_type": "code",
   "execution_count": 74,
   "id": "b64ac742-343d-49ed-a3f9-6a92102140c4",
   "metadata": {
    "scrolled": true
   },
   "outputs": [
    {
     "name": "stderr",
     "output_type": "stream",
     "text": [
      "[08:31:23] Warning: ambiguous stereochemistry - zero final chiral volume - at atom 54 ignored\n",
      "[08:31:24] Warning: ambiguous stereochemistry - zero final chiral volume - at atom 54 ignored\n",
      "[08:31:26] Warning: ambiguous stereochemistry - zero final chiral volume - at atom 54 ignored\n",
      "[08:31:28] Warning: ambiguous stereochemistry - zero final chiral volume - at atom 54 ignored\n",
      "[08:31:30] Warning: ambiguous stereochemistry - zero final chiral volume - at atom 54 ignored\n",
      "[08:31:32] Warning: ambiguous stereochemistry - zero final chiral volume - at atom 54 ignored\n",
      "[08:31:34] Warning: ambiguous stereochemistry - zero final chiral volume - at atom 54 ignored\n",
      "[08:31:36] Warning: ambiguous stereochemistry - zero final chiral volume - at atom 54 ignored\n"
     ]
    },
    {
     "name": "stdout",
     "output_type": "stream",
     "text": [
      "1.87 s ± 16.3 ms per loop (mean ± std. dev. of 7 runs, 1 loop each)\n"
     ]
    }
   ],
   "source": [
    "%timeit [Chem.MolFromMolBlock(m) for m in mbs3k]"
   ]
  },
  {
   "cell_type": "markdown",
   "id": "ceffa89d-afc6-4842-8538-19010507c2fb",
   "metadata": {},
   "source": [
    "## Adding/removing Hs"
   ]
  },
  {
   "cell_type": "code",
   "execution_count": 61,
   "id": "d1a1dc6d-a785-4ca5-aa04-c2493d0b6835",
   "metadata": {},
   "outputs": [
    {
     "name": "stdout",
     "output_type": "stream",
     "text": [
      "456 ms ± 2.34 ms per loop (mean ± std. dev. of 7 runs, 1 loop each)\n"
     ]
    }
   ],
   "source": [
    "%timeit [Chem.AddHs(m) for m in ms]"
   ]
  },
  {
   "cell_type": "code",
   "execution_count": 62,
   "id": "ef813de2-345e-4438-8561-f17587e6435a",
   "metadata": {},
   "outputs": [],
   "source": [
    "mhs = [Chem.AddHs(m) for m in ms]"
   ]
  },
  {
   "cell_type": "code",
   "execution_count": 64,
   "id": "91e41d4d-beb0-49d5-a1f7-77e173b4bb74",
   "metadata": {},
   "outputs": [
    {
     "name": "stdout",
     "output_type": "stream",
     "text": [
      "1.52 s ± 5.47 ms per loop (mean ± std. dev. of 7 runs, 1 loop each)\n"
     ]
    }
   ],
   "source": [
    "%timeit [Chem.RemoveHs(m) for m in mhs]"
   ]
  },
  {
   "cell_type": "markdown",
   "id": "430b0e4c-0b7a-4d42-92f0-f398298df855",
   "metadata": {},
   "source": [
    "## Conformer generation"
   ]
  },
  {
   "cell_type": "code",
   "execution_count": 65,
   "id": "65138c71-ac33-4714-968c-ecd17360f6a1",
   "metadata": {},
   "outputs": [],
   "source": [
    "from rdkit.Chem import rdDistGeom"
   ]
  },
  {
   "cell_type": "code",
   "execution_count": 69,
   "id": "a8de82b9-eab3-426c-96fb-0d19e965bd5a",
   "metadata": {},
   "outputs": [
    {
     "name": "stderr",
     "output_type": "stream",
     "text": [
      "[08:14:36] UFFTYPER: Unrecognized charge state for atom: 38\n",
      "[08:15:19] UFFTYPER: Unrecognized charge state for atom: 38\n",
      "[08:16:03] UFFTYPER: Unrecognized charge state for atom: 38\n",
      "[08:16:48] UFFTYPER: Unrecognized charge state for atom: 38\n",
      "[08:17:32] UFFTYPER: Unrecognized charge state for atom: 38\n",
      "[08:18:16] UFFTYPER: Unrecognized charge state for atom: 38\n",
      "[08:19:00] UFFTYPER: Unrecognized charge state for atom: 38\n",
      "[08:19:45] UFFTYPER: Unrecognized charge state for atom: 38\n"
     ]
    },
    {
     "name": "stdout",
     "output_type": "stream",
     "text": [
      "44.1 s ± 170 ms per loop (mean ± std. dev. of 7 runs, 1 loop each)\n"
     ]
    }
   ],
   "source": [
    "ps = rdDistGeom.EmbedParameters()\n",
    "ps.randomSeed = 0xf00d\n",
    "%timeit [rdDistGeom.EmbedMolecule(m,ps) for m in mhs[:1000]]"
   ]
  },
  {
   "cell_type": "code",
   "execution_count": 75,
   "id": "87b892da-758a-4280-8878-84a05f65846b",
   "metadata": {},
   "outputs": [
    {
     "name": "stderr",
     "output_type": "stream",
     "text": [
      "[08:36:46] UFFTYPER: Unrecognized charge state for atom: 38\n",
      "[08:37:52] UFFTYPER: Unrecognized charge state for atom: 38\n",
      "[08:38:58] UFFTYPER: Unrecognized charge state for atom: 38\n",
      "[08:40:03] UFFTYPER: Unrecognized charge state for atom: 38\n",
      "[08:41:09] UFFTYPER: Unrecognized charge state for atom: 38\n",
      "[08:42:14] UFFTYPER: Unrecognized charge state for atom: 38\n",
      "[08:43:20] UFFTYPER: Unrecognized charge state for atom: 38\n",
      "[08:44:25] UFFTYPER: Unrecognized charge state for atom: 38\n"
     ]
    },
    {
     "name": "stdout",
     "output_type": "stream",
     "text": [
      "1min 5s ± 245 ms per loop (mean ± std. dev. of 7 runs, 1 loop each)\n"
     ]
    }
   ],
   "source": [
    "ps = rdDistGeom.ETKDGv3()\n",
    "ps.randomSeed = 0xf00d\n",
    "%timeit [rdDistGeom.EmbedMolecule(m,ps) for m in mhs[:1000]]"
   ]
  },
  {
   "cell_type": "markdown",
   "id": "34e814ba-ddee-4137-b822-73883b6a9290",
   "metadata": {},
   "source": [
    "## Generate fingerprints"
   ]
  },
  {
   "cell_type": "code",
   "execution_count": 76,
   "id": "1924d4aa-3a57-42a1-b8bf-fca2e13cac48",
   "metadata": {},
   "outputs": [],
   "source": [
    "from rdkit.Chem import rdFingerprintGenerator\n"
   ]
  },
  {
   "cell_type": "code",
   "execution_count": 77,
   "id": "e1999206-08cb-44b9-958a-02d4f897cd97",
   "metadata": {},
   "outputs": [
    {
     "name": "stdout",
     "output_type": "stream",
     "text": [
      "497 ms ± 3.53 ms per loop (mean ± std. dev. of 7 runs, 1 loop each)\n"
     ]
    }
   ],
   "source": [
    "fpg = rdFingerprintGenerator.GetMorganGenerator(radius=3)\n",
    "%timeit fpg.GetFingerprints(ms)"
   ]
  },
  {
   "cell_type": "code",
   "execution_count": 78,
   "id": "68245d3d-a8d5-4447-bd35-2030be0d0a11",
   "metadata": {},
   "outputs": [
    {
     "name": "stdout",
     "output_type": "stream",
     "text": [
      "379 ms ± 4.65 ms per loop (mean ± std. dev. of 7 runs, 1 loop each)\n"
     ]
    }
   ],
   "source": [
    "fpg = rdFingerprintGenerator.GetMorganGenerator(radius=2)\n",
    "%timeit fpg.GetFingerprints(ms)"
   ]
  },
  {
   "cell_type": "code",
   "execution_count": 79,
   "id": "d572cb28-a781-4a87-babf-7605f47a9b66",
   "metadata": {},
   "outputs": [
    {
     "name": "stdout",
     "output_type": "stream",
     "text": [
      "13.1 s ± 71.8 ms per loop (mean ± std. dev. of 7 runs, 1 loop each)\n"
     ]
    }
   ],
   "source": [
    "fpg = rdFingerprintGenerator.GetRDKitFPGenerator()\n",
    "%timeit fpg.GetFingerprints(ms)"
   ]
  },
  {
   "cell_type": "code",
   "execution_count": 83,
   "id": "ebb317df-5c4b-41bb-90a0-ef595f4e7a5a",
   "metadata": {},
   "outputs": [
    {
     "name": "stdout",
     "output_type": "stream",
     "text": [
      "4.48 s ± 27.7 ms per loop (mean ± std. dev. of 7 runs, 1 loop each)\n"
     ]
    }
   ],
   "source": [
    "fpg = rdFingerprintGenerator.GetRDKitFPGenerator(maxPath=5)\n",
    "%timeit fpg.GetFingerprints(ms)"
   ]
  },
  {
   "cell_type": "code",
   "execution_count": 81,
   "id": "3ca77027-550e-4253-85c5-1bd925ad4c8b",
   "metadata": {},
   "outputs": [
    {
     "name": "stdout",
     "output_type": "stream",
     "text": [
      "1.65 s ± 8.14 ms per loop (mean ± std. dev. of 7 runs, 1 loop each)\n"
     ]
    }
   ],
   "source": [
    "fpg = rdFingerprintGenerator.GetAtomPairGenerator()\n",
    "%timeit fpg.GetFingerprints(ms)"
   ]
  },
  {
   "cell_type": "code",
   "execution_count": 82,
   "id": "c362713c-1747-4819-90e9-48b75465549e",
   "metadata": {},
   "outputs": [
    {
     "name": "stdout",
     "output_type": "stream",
     "text": [
      "1.36 s ± 4.22 ms per loop (mean ± std. dev. of 7 runs, 1 loop each)\n"
     ]
    }
   ],
   "source": [
    "fpg = rdFingerprintGenerator.GetTopologicalTorsionGenerator()\n",
    "%timeit fpg.GetFingerprints(ms)"
   ]
  },
  {
   "cell_type": "code",
   "execution_count": 98,
   "id": "10e61299-230a-4f1b-87dc-0db07cea1d19",
   "metadata": {},
   "outputs": [
    {
     "name": "stdout",
     "output_type": "stream",
     "text": [
      "2.49 s ± 39.5 ms per loop (mean ± std. dev. of 7 runs, 1 loop each)\n"
     ]
    }
   ],
   "source": [
    "%timeit [Chem.PatternFingerprint(m) for m in ms]"
   ]
  },
  {
   "cell_type": "code",
   "execution_count": null,
   "id": "e24b9665-c4bd-4a13-8f1f-19e4a16789fb",
   "metadata": {},
   "outputs": [],
   "source": []
  }
 ],
 "metadata": {
  "kernelspec": {
   "display_name": "Python 3 (ipykernel)",
   "language": "python",
   "name": "python3"
  },
  "language_info": {
   "codemirror_mode": {
    "name": "ipython",
    "version": 3
   },
   "file_extension": ".py",
   "mimetype": "text/x-python",
   "name": "python",
   "nbconvert_exporter": "python",
   "pygments_lexer": "ipython3",
   "version": "3.13.2"
  }
 },
 "nbformat": 4,
 "nbformat_minor": 5
}
